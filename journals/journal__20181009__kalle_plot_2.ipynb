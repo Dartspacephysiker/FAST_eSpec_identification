{
 "cells": [
  {
   "cell_type": "code",
   "execution_count": 1,
   "metadata": {
    "autoscroll": false,
    "collapsed": false,
    "ein.hycell": false,
    "ein.tags": "worksheet-0",
    "slideshow": {
     "slide_type": "-"
    }
   },
   "outputs": [
    {
     "name": "stdout",
     "output_type": "stream",
     "text": [
      "This unreleased version of SpacePy is not supported by the SpacePy team.\n"
     ]
    }
   ],
   "source": [
    "import scipy.io as sio\n",
    "import numpy as np\n",
    "import pandas as pd\n",
    "import datetime\n",
    "import matplotlib as mpl\n",
    "import tkinter\n",
    "mpl.use('TkAgg')\n",
    "import matplotlib.pyplot as plt\n",
    "plt.ion()\n",
    "# If using tkinter ('TkAgg') then make font color black,\n",
    "mpl.rcParams.update({'text.color': 'k'})\n",
    "mpl.rcParams.update({'axes.labelcolor': 'k'})\n",
    "mpl.rcParams.update({'xtick.color': 'k'})\n",
    "mpl.rcParams.update({'ytick.color': 'k'})\n",
    "#import sciencedates #same as igrf12fort\n",
    "import spacepy.time as spt\n",
    "#import xarray as xr #same as igrf12fort and sciencedates\n",
    "mpl.rcParams.update({'font.size': 15})\n",
    "mpl.rcParams.update({'figure.figsize' : [10.0, 8.0]})\n",
    "\n",
    "\n",
    "# file = '/SPENCEdata/Research/Satellites/FAST/espec_identification/20181009-Kalle_inds_21-24MLT__BOTH__gigante_DB.sav'\n",
    "\n",
    "# redMagFile = '/SPENCEdata/Research/Satellites/FAST/espec_identification/20181009-Kalle_inds_21-24MLT__BOTH__gigante_DB__MAG_coords.sav'\n",
    "\n",
    "# allFile='/SPENCEdata/Research/Satellites/FAST/espec_identification/20181009-Kalle_inds_21-24MLT__BOTH__gigante_DB__delta_t_and_mag_coords.sav'\n",
    "allFile='/SPENCEdata/Research/Satellites/FAST/espec_identification/20181010-Kalle_inds_ALLMLT__BOTH__gigante_DB__delta_t_and_mag_coords.sav'\n",
    "\n",
    "# this = sio.readsav(file,python_dict=True)\n",
    "# thisMAG = sio.readsav(redMagFile,python_dict=True)\n",
    "all = sio.readsav(allFile,python_dict=True)"
   ]
  },
  {
   "cell_type": "code",
   "execution_count": 2,
   "metadata": {
    "autoscroll": false,
    "collapsed": false,
    "ein.hycell": false,
    "ein.tags": "worksheet-0",
    "slideshow": {
     "slide_type": "-"
    }
   },
   "outputs": [
    {
     "name": "stdout",
     "output_type": "stream",
     "text": [
      "dict_keys(['espec', 'good_i', 'espec_delta_t', 'mag'])\n"
     ]
    }
   ],
   "source": [
    "print(all.keys())\n",
    "# print(thisMAG.keys())\n",
    "espec = all['espec']\n",
    "mag = all['mag']\n",
    "dts = all['espec_delta_t']"
   ]
  },
  {
   "cell_type": "code",
   "execution_count": 3,
   "metadata": {
    "autoscroll": false,
    "collapsed": false,
    "ein.hycell": false,
    "ein.tags": "worksheet-0",
    "slideshow": {
     "slide_type": "-"
    }
   },
   "outputs": [
    {
     "name": "stdout",
     "output_type": "stream",
     "text": [
      "(numpy.record, [(('x', 'X'), 'O'), (('orbit', 'ORBIT'), 'O'), (('mlt', 'MLT'), 'O'), (('ilat', 'ILAT'), 'O'), (('alt', 'ALT'), 'O'), (('mono', 'MONO'), 'O'), (('broad', 'BROAD'), 'O'), (('diffuse', 'DIFFUSE'), 'O'), (('je', 'JE'), 'O'), (('jee', 'JEE'), 'O'), (('nbad_espec', 'NBAD_ESPEC'), 'O'), (('mapfactor', 'MAPFACTOR'), 'O'), (('chare', 'CHARE'), 'O'), (('info', 'INFO'), 'O')])\n",
      "(numpy.record, [(('alt', 'ALT'), 'O'), (('lon', 'LON'), 'O'), (('lat', 'LAT'), 'O')])\n",
      ">f4\n"
     ]
    },
    {
     "data": {
      "text/plain": [
       "(39642712,)"
      ]
     },
     "execution_count": 3,
     "metadata": {},
     "output_type": "execute_result"
    }
   ],
   "source": [
    "print(espec.dtype)\n",
    "print(mag.dtype)\n",
    "print(dts.dtype)\n",
    "espec.x[0].shape\n",
    "# espec.mono[0].shape\n",
    "# espec.broad[0].shape\n",
    "# print(dat.alt[0].shape)\n",
    "# print(dat.lon[0].shape)\n",
    "#print(dat.lat[0].shape)"
   ]
  },
  {
   "cell_type": "code",
   "execution_count": 4,
   "metadata": {
    "autoscroll": false,
    "collapsed": false,
    "ein.hycell": false,
    "ein.tags": "worksheet-0",
    "slideshow": {
     "slide_type": "-"
    }
   },
   "outputs": [
    {
     "data": {
      "text/plain": [
       "datetime.datetime(2002, 10, 25, 0, 13, 21, 111771)"
      ]
     },
     "execution_count": 4,
     "metadata": {},
     "output_type": "execute_result"
    }
   ],
   "source": [
    "# Get a datetime from our UTC doubles created by IDL\n",
    "datetime.datetime.utcfromtimestamp(espec.x[0][-1])\n"
   ]
  },
  {
   "cell_type": "code",
   "execution_count": 5,
   "metadata": {
    "autoscroll": false,
    "collapsed": false,
    "ein.hycell": false,
    "ein.tags": "worksheet-0",
    "slideshow": {
     "slide_type": "-"
    }
   },
   "outputs": [],
   "source": [
    "# Diffusers\n",
    "# diff_i=np.where(espec.diffuse[0] == 1)\n",
    "# print(diff_i)\n",
    "\n",
    "# Uvver fings\n",
    "# print(np.where((espec.mono[0] == 1) | (espec.mono[0] == 2))[0].shape)\n",
    "# print(np.where(espec.diffuse[0] == 1)[0].shape)"
   ]
  },
  {
   "cell_type": "code",
   "execution_count": 6,
   "metadata": {
    "autoscroll": false,
    "collapsed": false,
    "ein.hycell": false,
    "ein.tags": "worksheet-0",
    "slideshow": {
     "slide_type": "-"
    }
   },
   "outputs": [
    {
     "data": {
      "text/plain": [
       "(array([3557430., 3602612., 3293638., 4477242., 4968136., 4863028.,\n        4492572., 3375921., 3532358., 3479775.]),\n array([1.83011161e-06, 3.59999962e+01, 7.19999924e+01, 1.07999985e+02,\n        1.43999969e+02, 1.79999969e+02, 2.15999969e+02, 2.51999954e+02,\n        2.87999939e+02, 3.23999939e+02, 3.59999939e+02], dtype=float32),\n <a list of 10 Patch objects>)"
      ]
     },
     "execution_count": 6,
     "metadata": {},
     "output_type": "execute_result"
    }
   ],
   "source": [
    "fig1 = plt.figure(num=1,figsize=(20, 8))\n",
    "ax = fig1.add_subplot(111)\n",
    "plt.hist(mag.lon[0])\n",
    "plt.show()\n"
   ]
  },
  {
   "cell_type": "code",
   "execution_count": 29,
   "metadata": {
    "autoscroll": false,
    "collapsed": false,
    "ein.hycell": false,
    "ein.tags": "worksheet-0",
    "slideshow": {
     "slide_type": "-"
    }
   },
   "outputs": [],
   "source": [
    "# Nå bare de som ligger innimellom 0–6 MLT\n",
    "postmid_i=np.where((espec.mlt[0] >= 0) & (espec.mlt[0] <= 6))\n",
    "magLonPost = mag.lon[0][postmid_i]\n",
    "magLatPost = mag.lat[0][postmid_i]\n",
    "dtsPost = dts[postmid_i]\n",
    "jePost = espec.je[0][postmid_i]\n",
    "jeePost = espec.jee[0][postmid_i]\n",
    "\n",
    "premid_i=np.where((espec.mlt[0] >= 21) & (espec.mlt[0] <= 24))\n",
    "magLonPre = mag.lon[0][premid_i]\n",
    "magLatPre = mag.lat[0][premid_i]\n",
    "dtsPre = dts[premid_i]\n",
    "jePre = espec.je[0][premid_i]\n",
    "jeePre = espec.jee[0][premid_i]\n"
   ]
  },
  {
   "cell_type": "code",
   "execution_count": 30,
   "metadata": {
    "autoscroll": false,
    "collapsed": false,
    "ein.hycell": false,
    "ein.tags": "worksheet-0",
    "slideshow": {
     "slide_type": "-"
    }
   },
   "outputs": [
    {
     "data": {
      "text/plain": [
       "(10157872,)"
      ]
     },
     "execution_count": 30,
     "metadata": {},
     "output_type": "execute_result"
    },
    {
     "data": {
      "text/plain": [
       "(5282108,)"
      ]
     },
     "execution_count": 30,
     "metadata": {},
     "output_type": "execute_result"
    }
   ],
   "source": [
    "postmid_i[0].shape\n",
    "premid_i[0].shape"
   ]
  },
  {
   "cell_type": "code",
   "execution_count": 31,
   "metadata": {
    "autoscroll": false,
    "collapsed": false,
    "ein.hycell": false,
    "ein.tags": "worksheet-0",
    "slideshow": {
     "slide_type": "-"
    }
   },
   "outputs": [
    {
     "data": {
      "text/plain": [
       "Text(0.5,1,'0-6 MLT')"
      ]
     },
     "execution_count": 31,
     "metadata": {},
     "output_type": "execute_result"
    },
    {
     "data": {
      "text/plain": [
       "Text(0.5,0,'MAG Longitude')"
      ]
     },
     "execution_count": 31,
     "metadata": {},
     "output_type": "execute_result"
    },
    {
     "data": {
      "text/plain": [
       "(array([ 984437.,  905406.,  835951., 1123102., 1274816., 1242960.,\n        1099577.,  837636.,  906898.,  947089.]),\n array([5.3781869e-06, 3.5999996e+01, 7.1999985e+01, 1.0799998e+02,\n        1.4399997e+02, 1.7999995e+02, 2.1599995e+02, 2.5199994e+02,\n        2.8799994e+02, 3.2399991e+02, 3.5999991e+02], dtype=float32),\n <a list of 10 Patch objects>)"
      ]
     },
     "execution_count": 31,
     "metadata": {},
     "output_type": "execute_result"
    },
    {
     "data": {
      "text/plain": [
       "Text(0.5,1,'21-24 MLT')"
      ]
     },
     "execution_count": 31,
     "metadata": {},
     "output_type": "execute_result"
    },
    {
     "data": {
      "text/plain": [
       "Text(0.5,0,'MAG Longitude')"
      ]
     },
     "execution_count": 31,
     "metadata": {},
     "output_type": "execute_result"
    },
    {
     "data": {
      "text/plain": [
       "(array([511765., 472458., 456909., 592003., 586312., 610051., 591650.,\n        499634., 482845., 478481.]),\n array([7.3907075e-05, 3.6000057e+01, 7.2000038e+01, 1.0800002e+02,\n        1.4400002e+02, 1.7999998e+02, 2.1599997e+02, 2.5199995e+02,\n        2.8799994e+02, 3.2399994e+02, 3.5999991e+02], dtype=float32),\n <a list of 10 Patch objects>)"
      ]
     },
     "execution_count": 31,
     "metadata": {},
     "output_type": "execute_result"
    }
   ],
   "source": [
    "# mag.lon[0][postmid_i]\n",
    "# fig1 = plt.figure(num=1,figsize=(20, 8))\n",
    "# ax1 = fig1.add_subplot(121)\n",
    "fig1, (ax1, ax2) = plt.subplots(1, 2,figsize=(20, 8))\n",
    "ax1.set_title(\"0-6 MLT\")\n",
    "ax1.set_xlabel(\"MAG Longitude\")\n",
    "ax1.hist(magLonPost)\n",
    "# ax2 = fig1.add_subplot(122)\n",
    "ax2.set_title(\"21-24 MLT\")\n",
    "ax2.set_xlabel(\"MAG Longitude\")\n",
    "ax2.hist(magLonPre)\n",
    "plt.show()"
   ]
  },
  {
   "cell_type": "code",
   "execution_count": 32,
   "metadata": {
    "autoscroll": false,
    "collapsed": false,
    "ein.hycell": false,
    "ein.tags": "worksheet-0",
    "slideshow": {
     "slide_type": "-"
    }
   },
   "outputs": [
    {
     "name": "stdout",
     "output_type": "stream",
     "text": [
      "[  0  30  60  90 120 150 180 210 240 270 300 330]\n",
      "[50.  52.5 55.  57.5 60.  62.5 65.  67.5 70.  72.5 75.  77.5 80.  82.5\n",
      " 85.  87.5 90. ]\n",
      "[-90.  -87.5 -85.  -82.5 -80.  -77.5 -75.  -72.5 -70.  -67.5 -65.  -62.5\n",
      " -60.  -57.5 -55.  -52.5 -50. ]\n",
      "[-90.  -87.5 -85.  -82.5 -80.  -77.5 -75.  -72.5 -70.  -67.5 -65.  -62.5\n",
      " -60.  -57.5 -55.  -52.5 -50.  -47.5 -45.  -42.5 -40.  -37.5 -35.  -32.5\n",
      " -30.  -27.5 -25.  -22.5 -20.  -17.5 -15.  -12.5 -10.   -7.5  -5.   -2.5\n",
      "   0.    2.5   5.    7.5  10.   12.5  15.   17.5  20.   22.5  25.   27.5\n",
      "  30.   32.5  35.   37.5  40.   42.5  45.   47.5  50.   52.5  55.   57.5\n",
      "  60.   62.5  65.   67.5  70.   72.5  75.   77.5  80.   82.5  85.   87.5\n",
      "  90. ]\n"
     ]
    }
   ],
   "source": [
    "# Nå skaper vi vektene for den 2D matrise \n",
    "# Et histogram skal være det som gjelder bare tid\n",
    "# det andre skal være det vektete flukser\n",
    "#lonKanter=np.\n",
    "lonKanter=np.arange(0,360,30)\n",
    "latKanter=(np.arange(0,85,5)+100)/2.\n",
    "latKanterSH=(np.arange(-60,25,5)-120)/2.\n",
    "latKanterAll=(np.arange(-60,305,5)-120)/2.\n",
    "print(lonKanter)\n",
    "print(latKanter)\n",
    "print(latKanterSH)\n",
    "print(latKanterAll)"
   ]
  },
  {
   "cell_type": "code",
   "execution_count": 77,
   "metadata": {
    "autoscroll": false,
    "collapsed": false,
    "ein.hycell": false,
    "ein.tags": "worksheet-0",
    "slideshow": {
     "slide_type": "-"
    }
   },
   "outputs": [],
   "source": [
    "hist2DTidPost,xEdgePost,yEdgePost=np.histogram2d(magLonPost,magLatPost,bins=(lonKanter,latKanter),weights=dtsPost)\n",
    "hist2DJePost,xEdgePost,yEdgePost=np.histogram2d(magLonPost,magLatPost,bins=(lonKanter,latKanter),weights=dtsPost*jePost)\n",
    "hist2DJeePost,xEdgePost,yEdgePost=np.histogram2d(magLonPost,magLatPost,bins=(lonKanter,latKanter),weights=dtsPost*jeePost)\n",
    "\n",
    "hist2DTidSHPost,xEdgeSHPost,yEdgeSHPost=np.histogram2d(magLonPost,magLatPost,bins=(lonKanter,latKanterSH),weights=dtsPost)\n",
    "hist2DJeSHPost,xEdgeSHPost,yEdgeSHPost=np.histogram2d(magLonPost,magLatPost,bins=(lonKanter,latKanterSH),weights=dtsPost*jePost)\n",
    "hist2DJeeSHPost,xEdgeSHPost,yEdgeSHPost=np.histogram2d(magLonPost,magLatPost,bins=(lonKanter,latKanterSH),weights=dtsPost*jeePost)\n",
    "\n",
    "hist2DTidAllPost,xEdgeAllPost,yEdgeAllPost=np.histogram2d(magLonPost,magLatPost,bins=(lonKanter,latKanterAll),weights=dtsPost)\n",
    "hist2DJeAllPost,xEdgeAllPost,yEdgeAllPost=np.histogram2d(magLonPost,magLatPost,bins=(lonKanter,latKanterAll),weights=dtsPost*jePost)\n",
    "hist2DJeeAllPost,xEdgeAllPost,yEdgeAllPost=np.histogram2d(magLonPost,magLatPost,bins=(lonKanter,latKanterAll),weights=dtsPost*jeePost)\n",
    "hist2DNAllPost,xEdgeAllPost,yEdgeAllPost=np.histogram2d(magLonPost,magLatPost,bins=(lonKanter,latKanterAll))"
   ]
  },
  {
   "cell_type": "code",
   "execution_count": 78,
   "metadata": {
    "autoscroll": false,
    "collapsed": false,
    "ein.hycell": false,
    "ein.tags": "worksheet-0",
    "slideshow": {
     "slide_type": "-"
    }
   },
   "outputs": [],
   "source": [
    "histDivJePost = hist2DJePost*0.\n",
    "histDivJeePost = hist2DJeePost*0.\n",
    "nzIndsPost = np.where(hist2DTidPost > 0)\n",
    "histDivJePost[nzIndsPost] = hist2DJePost[nzIndsPost]/hist2DTidPost[nzIndsPost]\n",
    "histDivJeePost[nzIndsPost] = hist2DJeePost[nzIndsPost]/hist2DTidPost[nzIndsPost]\n",
    "\n",
    "histDivJeSHPost = hist2DJeSHPost*0.\n",
    "histDivJeeSHPost = hist2DJeeSHPost*0.\n",
    "nzIndsSHPost = np.where(hist2DTidSHPost > 0)\n",
    "histDivJeSHPost[nzIndsSHPost] = hist2DJeSHPost[nzIndsSHPost]/hist2DTidSHPost[nzIndsSHPost]\n",
    "histDivJeeSHPost[nzIndsSHPost] = hist2DJeeSHPost[nzIndsSHPost]/hist2DTidSHPost[nzIndsSHPost]\n",
    "\n",
    "histDivJeAllPost = hist2DJeAllPost*0.\n",
    "histDivJeeAllPost = hist2DJeeAllPost*0.\n",
    "nzIndsAllPost = np.where(hist2DTidAllPost > 0)\n",
    "histDivJeAllPost[nzIndsAllPost] = hist2DJeAllPost[nzIndsAllPost]/hist2DTidAllPost[nzIndsAllPost]\n",
    "histDivJeeAllPost[nzIndsAllPost] = hist2DJeeAllPost[nzIndsAllPost]/hist2DTidAllPost[nzIndsAllPost]"
   ]
  },
  {
   "cell_type": "code",
   "execution_count": 38,
   "metadata": {
    "autoscroll": false,
    "collapsed": false,
    "ein.hycell": false,
    "ein.tags": "worksheet-0",
    "slideshow": {
     "slide_type": "-"
    }
   },
   "outputs": [
    {
     "name": "stdout",
     "output_type": "stream",
     "text": [
      "(11, 16)\n",
      "(12,)\n",
      "(17,)\n",
      "0 330\n"
     ]
    }
   ],
   "source": [
    "print(histDivJePost.shape)\n",
    "print(xEdgePost.shape)\n",
    "print(yEdgePost.shape)\n",
    "print(xEdgePost[0],xEdgePost[-1])"
   ]
  },
  {
   "cell_type": "code",
   "execution_count": 41,
   "metadata": {
    "autoscroll": false,
    "collapsed": false,
    "ein.hycell": false,
    "ein.tags": "worksheet-0",
    "slideshow": {
     "slide_type": "-"
    }
   },
   "outputs": [
    {
     "data": {
      "text/plain": [
       "Text(0.5,1,'imshow: equidistant')"
      ]
     },
     "execution_count": 41,
     "metadata": {},
     "output_type": "execute_result"
    },
    {
     "data": {
      "text/plain": [
       "Text(0.5,1,'pcolormesh: exact bin edges')"
      ]
     },
     "execution_count": 41,
     "metadata": {},
     "output_type": "execute_result"
    },
    {
     "data": {
      "text/plain": [
       "<matplotlib.collections.QuadMesh at 0x7f1f1c68f550>"
      ]
     },
     "execution_count": 41,
     "metadata": {},
     "output_type": "execute_result"
    },
    {
     "data": {
      "text/plain": [
       "Text(0.5,1,'NonUniformImage: interpolated')"
      ]
     },
     "execution_count": 41,
     "metadata": {},
     "output_type": "execute_result"
    },
    {
     "data": {
      "text/plain": [
       "(0, 330)"
      ]
     },
     "execution_count": 41,
     "metadata": {},
     "output_type": "execute_result"
    },
    {
     "data": {
      "text/plain": [
       "(50.0, 90.0)"
      ]
     },
     "execution_count": 41,
     "metadata": {},
     "output_type": "execute_result"
    }
   ],
   "source": [
    "fig2 = plt.figure(num=2,figsize=(20, 8))\n",
    "ax = fig2.add_subplot(131)\n",
    "ax.set_title('imshow: equidistant')\n",
    "im = plt.imshow(histDivJePost.T, interpolation='nearest', origin='low',\n",
    "                extent=[xEdgePost[0], xEdgePost[-1], yEdgePost[0], yEdgePost[-1]])\n",
    "ax2 = fig2.add_subplot(132)\n",
    "ax2.set_title('pcolormesh: exact bin edges')\n",
    "X, Y = np.meshgrid(xEdgePost, yEdgePost)\n",
    "ax2.pcolormesh(X, Y, histDivJePost.T)\n",
    "ax2.set_aspect('auto')\n",
    "# plt.show()\n",
    "ax3 = fig2.add_subplot(133)\n",
    "ax3.set_title('NonUniformImage: interpolated')\n",
    "im3 = mpl.image.NonUniformImage(ax3, interpolation='bilinear',\n",
    "                                extent=[xEdgePost[0], xEdgePost[-1], yEdgePost[0], yEdgePost[-1]])\n",
    "xcenters = xEdgePost[:-1] + 0.5 * (xEdgePost[1:] - xEdgePost[:-1])\n",
    "ycenters = yEdgePost[:-1] + 0.5 * (yEdgePost[1:] - yEdgePost[:-1])\n",
    "im3.set_data(xcenters, ycenters, histDivJePost.T)\n",
    "ax3.images.append(im3)\n",
    "ax3.set_xlim(xEdgePost[0], xEdgePost[-1])\n",
    "ax3.set_ylim(yEdgePost[0], yEdgePost[-1])\n",
    "ax3.set_aspect('auto')\n",
    "# fig2.colorbar(im3, ax=ax3)\n",
    "plt.show()"
   ]
  },
  {
   "cell_type": "code",
   "execution_count": 42,
   "metadata": {
    "autoscroll": false,
    "collapsed": false,
    "ein.hycell": false,
    "ein.tags": "worksheet-0",
    "slideshow": {
     "slide_type": "-"
    }
   },
   "outputs": [
    {
     "data": {
      "text/plain": [
       "Text(0.5,1,'imshow: equidistant')"
      ]
     },
     "execution_count": 42,
     "metadata": {},
     "output_type": "execute_result"
    },
    {
     "data": {
      "text/plain": [
       "Text(0.5,1,'pcolormesh: exact bin edges')"
      ]
     },
     "execution_count": 42,
     "metadata": {},
     "output_type": "execute_result"
    },
    {
     "data": {
      "text/plain": [
       "<matplotlib.collections.QuadMesh at 0x7f1f1c603b00>"
      ]
     },
     "execution_count": 42,
     "metadata": {},
     "output_type": "execute_result"
    },
    {
     "data": {
      "text/plain": [
       "Text(0.5,1,'NonUniformImage: interpolated')"
      ]
     },
     "execution_count": 42,
     "metadata": {},
     "output_type": "execute_result"
    },
    {
     "data": {
      "text/plain": [
       "(0, 330)"
      ]
     },
     "execution_count": 42,
     "metadata": {},
     "output_type": "execute_result"
    },
    {
     "data": {
      "text/plain": [
       "(50.0, 90.0)"
      ]
     },
     "execution_count": 42,
     "metadata": {},
     "output_type": "execute_result"
    }
   ],
   "source": [
    "fig2 = plt.figure(num=2,figsize=(20, 8))\n",
    "ax = fig2.add_subplot(131)\n",
    "ax.set_title('imshow: equidistant')\n",
    "im = plt.imshow(histDivJePost.T, interpolation='nearest', origin='low',\n",
    "                extent=[xEdgePost[0], xEdgePost[-1], yEdgePost[0], yEdgePost[-1]])\n",
    "ax2 = fig2.add_subplot(132)\n",
    "ax2.set_title('pcolormesh: exact bin edges')\n",
    "X, Y = np.meshgrid(xEdgePost, yEdgePost)\n",
    "ax2.pcolormesh(X, Y, histDivJePost.T)\n",
    "ax2.set_aspect('auto')\n",
    "# plt.show()\n",
    "ax3 = fig2.add_subplot(133)\n",
    "ax3.set_title('NonUniformImage: interpolated')\n",
    "im3 = mpl.image.NonUniformImage(ax3, interpolation='bilinear',\n",
    "                                extent=[xEdgePost[0], xEdgePost[-1], yEdgePost[0], yEdgePost[-1]])\n",
    "xcenters = xEdgePost[:-1] + 0.5 * (xEdgePost[1:] - xEdgePost[:-1])\n",
    "ycenters = yEdgePost[:-1] + 0.5 * (yEdgePost[1:] - yEdgePost[:-1])\n",
    "im3.set_data(xcenters, ycenters, histDivJePost.T)\n",
    "ax3.images.append(im3)\n",
    "ax3.set_xlim(xEdgePost[0], xEdgePost[-1])\n",
    "ax3.set_ylim(yEdgePost[0], yEdgePost[-1])\n",
    "ax3.set_aspect('auto')\n",
    "# fig2.colorbar(im3, ax=ax3)\n",
    "plt.show()"
   ]
  },
  {
   "cell_type": "code",
   "execution_count": 43,
   "metadata": {
    "autoscroll": false,
    "collapsed": false,
    "ein.hycell": false,
    "ein.tags": "worksheet-0",
    "slideshow": {
     "slide_type": "-"
    }
   },
   "outputs": [
    {
     "data": {
      "text/plain": [
       "Text(0.5,1,'imshow: equidistant')"
      ]
     },
     "execution_count": 43,
     "metadata": {},
     "output_type": "execute_result"
    },
    {
     "data": {
      "text/plain": [
       "Text(0.5,1,'pcolormesh: exact bin edges')"
      ]
     },
     "execution_count": 43,
     "metadata": {},
     "output_type": "execute_result"
    },
    {
     "data": {
      "text/plain": [
       "<matplotlib.collections.QuadMesh at 0x7f1f1c4f1978>"
      ]
     },
     "execution_count": 43,
     "metadata": {},
     "output_type": "execute_result"
    },
    {
     "data": {
      "text/plain": [
       "Text(0.5,1,'NonUniformImage: interpolated')"
      ]
     },
     "execution_count": 43,
     "metadata": {},
     "output_type": "execute_result"
    },
    {
     "data": {
      "text/plain": [
       "(0, 330)"
      ]
     },
     "execution_count": 43,
     "metadata": {},
     "output_type": "execute_result"
    },
    {
     "data": {
      "text/plain": [
       "(-90.0, -50.0)"
      ]
     },
     "execution_count": 43,
     "metadata": {},
     "output_type": "execute_result"
    }
   ],
   "source": [
    "figSHPost = plt.figure(num=3,figsize=(20, 8))\n",
    "axSHPost = figSHPost.add_subplot(131)\n",
    "axSHPost.set_title('imshow: equidistant')\n",
    "im = plt.imshow(histDivJeSHPost.T, interpolation='nearest', origin='low',\n",
    "                extent=[xEdgeSHPost[0], xEdgeSHPost[-1], yEdgeSHPost[0], yEdgeSHPost[-1]])\n",
    "\n",
    "axSHPost2 = figSHPost.add_subplot(132)\n",
    "axSHPost2.set_title('pcolormesh: exact bin edges')\n",
    "X, Y = np.meshgrid(xEdgeSHPost, yEdgeSHPost)\n",
    "axSHPost2.pcolormesh(X, Y, histDivJeSHPost.T)\n",
    "axSHPost2.set_aspect('auto')\n",
    "# plt.show()\n",
    "axSHPost3 = figSHPost.add_subplot(133)\n",
    "axSHPost3.set_title('NonUniformImage: interpolated')\n",
    "im3 = mpl.image.NonUniformImage(axSHPost3, interpolation='bilinear',\n",
    "                                extent=[xEdgeSHPost[0], xEdgeSHPost[-1], yEdgeSHPost[0], yEdgeSHPost[-1]])\n",
    "xcenters = xEdgeSHPost[:-1] + 0.5 * (xEdgeSHPost[1:] - xEdgeSHPost[:-1])\n",
    "ycenters = yEdgeSHPost[:-1] + 0.5 * (yEdgeSHPost[1:] - yEdgeSHPost[:-1])\n",
    "im3.set_data(xcenters, ycenters, histDivJeSHPost.T)\n",
    "axSHPost3.images.append(im3)\n",
    "axSHPost3.set_xlim(xEdgeSHPost[0], xEdgeSHPost[-1])\n",
    "axSHPost3.set_ylim(yEdgeSHPost[0], yEdgeSHPost[-1])\n",
    "axSHPost3.set_aspect('auto')\n",
    "plt.show()"
   ]
  },
  {
   "cell_type": "code",
   "execution_count": 83,
   "metadata": {
    "autoscroll": false,
    "collapsed": false,
    "ein.hycell": false,
    "ein.tags": "worksheet-0",
    "slideshow": {
     "slide_type": "-"
    }
   },
   "outputs": [
    {
     "data": {
      "text/plain": [
       "Text(0.5,0.98,'0-6 MLT')"
      ]
     },
     "execution_count": 83,
     "metadata": {},
     "output_type": "execute_result"
    },
    {
     "data": {
      "text/plain": [
       "Text(0.5,1,'pcolormesh: exact bin edges')"
      ]
     },
     "execution_count": 83,
     "metadata": {},
     "output_type": "execute_result"
    },
    {
     "data": {
      "text/plain": [
       "<matplotlib.collections.QuadMesh at 0x7f1f1ad4de10>"
      ]
     },
     "execution_count": 83,
     "metadata": {},
     "output_type": "execute_result"
    },
    {
     "data": {
      "text/plain": [
       "Text(0.5,1,'NonUniformImage: interpolated')"
      ]
     },
     "execution_count": 83,
     "metadata": {},
     "output_type": "execute_result"
    },
    {
     "data": {
      "text/plain": [
       "(0, 330)"
      ]
     },
     "execution_count": 83,
     "metadata": {},
     "output_type": "execute_result"
    },
    {
     "data": {
      "text/plain": [
       "(-90.0, 90.0)"
      ]
     },
     "execution_count": 83,
     "metadata": {},
     "output_type": "execute_result"
    }
   ],
   "source": [
    "figAllPost = plt.figure(num=4,figsize=(16, 8))\n",
    "figAllPost.suptitle(\"0-6 MLT\")\n",
    "# axAllPost = figAllPost.add_subplot(131)\n",
    "# axAllPost.set_title('imshow: equidistant')\n",
    "# im = plt.imshow(histDivJeAllPost.T, interpolation='nearest', origin='low',\n",
    "#                 extent=[xEdgeAllPost[0], xEdgeAllPost[-1], yEdgeAllPost[0], yEdgeAllPost[-1]])\n",
    "\n",
    "axAllPost2 = figAllPost.add_subplot(121)\n",
    "axAllPost2.set_title('pcolormesh: exact bin edges')\n",
    "X, Y = np.meshgrid(xEdgeAllPost, yEdgeAllPost)\n",
    "axAllPost2.pcolormesh(X, Y, histDivJeAllPost.T)\n",
    "axAllPost2.set_aspect('auto')\n",
    "# plt.show()\n",
    "axAllPost3 = figAllPost.add_subplot(122)\n",
    "axAllPost3.set_title('NonUniformImage: interpolated')\n",
    "im3 = mpl.image.NonUniformImage(axAllPost3, interpolation='bilinear',\n",
    "                                extent=[xEdgeAllPost[0], xEdgeAllPost[-1], yEdgeAllPost[0], yEdgeAllPost[-1]])\n",
    "xcenters = xEdgeAllPost[:-1] + 0.5 * (xEdgeAllPost[1:] - xEdgeAllPost[:-1])\n",
    "ycenters = yEdgeAllPost[:-1] + 0.5 * (yEdgeAllPost[1:] - yEdgeAllPost[:-1])\n",
    "im3.set_data(xcenters, ycenters, histDivJeAllPost.T)\n",
    "axAllPost3.images.append(im3)\n",
    "axAllPost3.set_xlim(xEdgeAllPost[0], xEdgeAllPost[-1])\n",
    "axAllPost3.set_ylim(yEdgeAllPost[0], yEdgeAllPost[-1])\n",
    "axAllPost3.set_aspect('auto')\n",
    "cbAllPost=figAllPost.colorbar(im3, ax=axAllPost3)\n",
    "cbAllPost.set_label(\"# cm^-2 s^-1\")\n",
    "plt.show()"
   ]
  },
  {
   "cell_type": "code",
   "execution_count": 84,
   "metadata": {
    "autoscroll": false,
    "collapsed": false,
    "ein.hycell": false,
    "ein.tags": "worksheet-0",
    "slideshow": {
     "slide_type": "-"
    }
   },
   "outputs": [
    {
     "data": {
      "text/plain": [
       "Text(0.5,0.98,'0-6 MLT')"
      ]
     },
     "execution_count": 84,
     "metadata": {},
     "output_type": "execute_result"
    },
    {
     "data": {
      "text/plain": [
       "Text(0.5,1,'pcolormesh: exact bin edges')"
      ]
     },
     "execution_count": 84,
     "metadata": {},
     "output_type": "execute_result"
    },
    {
     "data": {
      "text/plain": [
       "<matplotlib.collections.QuadMesh at 0x7f1f1ac76208>"
      ]
     },
     "execution_count": 84,
     "metadata": {},
     "output_type": "execute_result"
    },
    {
     "data": {
      "text/plain": [
       "Text(0.5,1,'NonUniformImage: interpolated')"
      ]
     },
     "execution_count": 84,
     "metadata": {},
     "output_type": "execute_result"
    },
    {
     "data": {
      "text/plain": [
       "(0, 330)"
      ]
     },
     "execution_count": 84,
     "metadata": {},
     "output_type": "execute_result"
    },
    {
     "data": {
      "text/plain": [
       "(-90.0, 90.0)"
      ]
     },
     "execution_count": 84,
     "metadata": {},
     "output_type": "execute_result"
    }
   ],
   "source": [
    "figAllPost2 = plt.figure(num=5,figsize=(16, 8))\n",
    "figAllPost2.suptitle(\"0-6 MLT\")\n",
    "# axAllPost = figAllPost.add_subplot(131)\n",
    "# axAllPost.set_title('imshow: equidistant')\n",
    "# im = plt.imshow(hist2DNAllPost.T, interpolation='nearest', origin='low',\n",
    "#                 extent=[xEdgeAllPost[0], xEdgeAllPost[-1], yEdgeAllPost[0], yEdgeAllPost[-1]])\n",
    "\n",
    "axAllPost2 = figAllPost2.add_subplot(121)\n",
    "axAllPost2.set_title('pcolormesh: exact bin edges')\n",
    "X, Y = np.meshgrid(xEdgeAllPost, yEdgeAllPost)\n",
    "axAllPost2.pcolormesh(X, Y, hist2DNAllPost.T)\n",
    "axAllPost2.set_aspect('auto')\n",
    "# plt.show()\n",
    "axAllPost3 = figAllPost2.add_subplot(122)\n",
    "axAllPost3.set_title('NonUniformImage: interpolated')\n",
    "im3 = mpl.image.NonUniformImage(axAllPost3, interpolation='bilinear',\n",
    "                                extent=[xEdgeAllPost[0], xEdgeAllPost[-1], yEdgeAllPost[0], yEdgeAllPost[-1]])\n",
    "xcenters = xEdgeAllPost[:-1] + 0.5 * (xEdgeAllPost[1:] - xEdgeAllPost[:-1])\n",
    "ycenters = yEdgeAllPost[:-1] + 0.5 * (yEdgeAllPost[1:] - yEdgeAllPost[:-1])\n",
    "im3.set_data(xcenters, ycenters, hist2DNAllPost.T)\n",
    "axAllPost3.images.append(im3)\n",
    "axAllPost3.set_xlim(xEdgeAllPost[0], xEdgeAllPost[-1])\n",
    "axAllPost3.set_ylim(yEdgeAllPost[0], yEdgeAllPost[-1])\n",
    "axAllPost3.set_aspect('auto')\n",
    "cbAllPost2=figAllPost2.colorbar(im3, ax=axAllPost3)\n",
    "cbAllPost2.set_label(\"N\")\n",
    "plt.show()"
   ]
  },
  {
   "cell_type": "code",
   "execution_count": 85,
   "metadata": {
    "autoscroll": false,
    "collapsed": false,
    "ein.hycell": false,
    "ein.tags": "worksheet-0",
    "slideshow": {
     "slide_type": "-"
    }
   },
   "outputs": [
    {
     "data": {
      "text/plain": [
       "Text(0.5,0.98,'0-6 MLT')"
      ]
     },
     "execution_count": 85,
     "metadata": {},
     "output_type": "execute_result"
    },
    {
     "data": {
      "text/plain": [
       "Text(0.5,1,'pcolormesh: exact bin edges')"
      ]
     },
     "execution_count": 85,
     "metadata": {},
     "output_type": "execute_result"
    },
    {
     "data": {
      "text/plain": [
       "<matplotlib.collections.QuadMesh at 0x7f1f1ab181d0>"
      ]
     },
     "execution_count": 85,
     "metadata": {},
     "output_type": "execute_result"
    },
    {
     "data": {
      "text/plain": [
       "Text(0.5,1,'NonUniformImage: interpolated')"
      ]
     },
     "execution_count": 85,
     "metadata": {},
     "output_type": "execute_result"
    },
    {
     "data": {
      "text/plain": [
       "(0, 330)"
      ]
     },
     "execution_count": 85,
     "metadata": {},
     "output_type": "execute_result"
    },
    {
     "data": {
      "text/plain": [
       "(-90.0, 90.0)"
      ]
     },
     "execution_count": 85,
     "metadata": {},
     "output_type": "execute_result"
    }
   ],
   "source": [
    "figAllPost3 = plt.figure(num=6,figsize=(16, 8))\n",
    "figAllPost3.suptitle(\"0-6 MLT\")\n",
    "# axAllPost = figAllPost3.add_subplot(131)\n",
    "# axAllPost.set_title('imshow: equidistant')\n",
    "# im = plt.imshow(histDivJeeAllPost.T, interpolation='nearest', origin='low',\n",
    "#                 extent=[xEdgeAllPost[0], xEdgeAllPost[-1], yEdgeAllPost[0], yEdgeAllPost[-1]])\n",
    "\n",
    "axAllPost2 = figAllPost3.add_subplot(121)\n",
    "axAllPost2.set_title('pcolormesh: exact bin edges')\n",
    "X, Y = np.meshgrid(xEdgeAllPost, yEdgeAllPost)\n",
    "axAllPost2.pcolormesh(X, Y, histDivJeeAllPost.T)\n",
    "axAllPost2.set_aspect('auto')\n",
    "# plt.show()\n",
    "axAllPost3 = figAllPost3.add_subplot(122)\n",
    "axAllPost3.set_title('NonUniformImage: interpolated')\n",
    "im3 = mpl.image.NonUniformImage(axAllPost3, interpolation='bilinear',\n",
    "                                extent=[xEdgeAllPost[0], xEdgeAllPost[-1], yEdgeAllPost[0], yEdgeAllPost[-1]])\n",
    "xcenters = xEdgeAllPost[:-1] + 0.5 * (xEdgeAllPost[1:] - xEdgeAllPost[:-1])\n",
    "ycenters = yEdgeAllPost[:-1] + 0.5 * (yEdgeAllPost[1:] - yEdgeAllPost[:-1])\n",
    "im3.set_data(xcenters, ycenters, histDivJeeAllPost.T)\n",
    "axAllPost3.images.append(im3)\n",
    "axAllPost3.set_xlim(xEdgeAllPost[0], xEdgeAllPost[-1])\n",
    "axAllPost3.set_ylim(yEdgeAllPost[0], yEdgeAllPost[-1])\n",
    "axAllPost3.set_aspect('auto')\n",
    "cbAllPost=figAllPost3.colorbar(im3, ax=axAllPost3)\n",
    "cbAllPost.set_label(\"mW m^-2\")\n",
    "plt.show()"
   ]
  },
  {
   "cell_type": "code",
   "execution_count": 80,
   "metadata": {
    "autoscroll": false,
    "collapsed": false,
    "ein.hycell": false,
    "ein.tags": "worksheet-0",
    "slideshow": {
     "slide_type": "-"
    }
   },
   "outputs": [],
   "source": [
    "hist2DTidPre,xEdgePre,yEdgePre=np.histogram2d(magLonPre,magLatPre,bins=(lonKanter,latKanter),weights=dtsPre)\n",
    "hist2DJePre,xEdgePre,yEdgePre=np.histogram2d(magLonPre,magLatPre,bins=(lonKanter,latKanter),weights=dtsPre*jePre)\n",
    "hist2DJeePre,xEdgePre,yEdgePre=np.histogram2d(magLonPre,magLatPre,bins=(lonKanter,latKanter),weights=dtsPre*jeePre)\n",
    "\n",
    "hist2DTidSHPre,xEdgeSHPre,yEdgeSHPre=np.histogram2d(magLonPre,magLatPre,bins=(lonKanter,latKanterSH),weights=dtsPre)\n",
    "hist2DJeSHPre,xEdgeSHPre,yEdgeSHPre=np.histogram2d(magLonPre,magLatPre,bins=(lonKanter,latKanterSH),weights=dtsPre*jePre)\n",
    "hist2DJeeSHPre,xEdgeSHPre,yEdgeSHPre=np.histogram2d(magLonPre,magLatPre,bins=(lonKanter,latKanterSH),weights=dtsPre*jeePre)\n",
    "\n",
    "hist2DTidAllPre,xEdgeAllPre,yEdgeAllPre=np.histogram2d(magLonPre,magLatPre,bins=(lonKanter,latKanterAll),weights=dtsPre)\n",
    "hist2DJeAllPre,xEdgeAllPre,yEdgeAllPre=np.histogram2d(magLonPre,magLatPre,bins=(lonKanter,latKanterAll),weights=dtsPre*jePre)\n",
    "hist2DJeeAllPre,xEdgeAllPre,yEdgeAllPre=np.histogram2d(magLonPre,magLatPre,bins=(lonKanter,latKanterAll),weights=dtsPre*jeePre)\n",
    "hist2DNAllPre,xEdgeAllPre,yEdgeAllPre=np.histogram2d(magLonPre,magLatPre,bins=(lonKanter,latKanterAll))"
   ]
  },
  {
   "cell_type": "code",
   "execution_count": 81,
   "metadata": {
    "autoscroll": false,
    "collapsed": false,
    "ein.hycell": false,
    "ein.tags": "worksheet-0",
    "slideshow": {
     "slide_type": "-"
    }
   },
   "outputs": [],
   "source": [
    "histDivJePre = hist2DJePre*0.\n",
    "histDivJeePre = hist2DJeePre*0.\n",
    "nzIndsPre = np.where(hist2DTidPre > 0)\n",
    "histDivJePre[nzIndsPre] = hist2DJePre[nzIndsPre]/hist2DTidPre[nzIndsPre]\n",
    "histDivJeePre[nzIndsPre] = hist2DJeePre[nzIndsPre]/hist2DTidPre[nzIndsPre]\n",
    "\n",
    "histDivJeSHPre = hist2DJeSHPre*0.\n",
    "histDivJeeSHPre = hist2DJeeSHPre*0.\n",
    "nzIndsSHPre = np.where(hist2DTidSHPre > 0)\n",
    "histDivJeSHPre[nzIndsSHPre] = hist2DJeSHPre[nzIndsSHPre]/hist2DTidSHPre[nzIndsSHPre]\n",
    "histDivJeeSHPre[nzIndsSHPre] = hist2DJeeSHPre[nzIndsSHPre]/hist2DTidSHPre[nzIndsSHPre]\n",
    "\n",
    "histDivJeAllPre = hist2DJeAllPre*0.\n",
    "histDivJeeAllPre = hist2DJeeAllPre*0.\n",
    "nzIndsAllPre = np.where(hist2DTidAllPre > 0)\n",
    "histDivJeAllPre[nzIndsAllPre] = hist2DJeAllPre[nzIndsAllPre]/hist2DTidAllPre[nzIndsAllPre]\n",
    "histDivJeeAllPre[nzIndsAllPre] = hist2DJeeAllPre[nzIndsAllPre]/hist2DTidAllPre[nzIndsAllPre]"
   ]
  },
  {
   "cell_type": "code",
   "execution_count": 49,
   "metadata": {
    "autoscroll": false,
    "collapsed": false,
    "ein.hycell": false,
    "ein.tags": "worksheet-0",
    "slideshow": {
     "slide_type": "-"
    }
   },
   "outputs": [
    {
     "data": {
      "text/plain": [
       "Text(0.5,1,'imshow: equidistant')"
      ]
     },
     "execution_count": 49,
     "metadata": {},
     "output_type": "execute_result"
    },
    {
     "data": {
      "text/plain": [
       "Text(0.5,1,'pcolormesh: exact bin edges')"
      ]
     },
     "execution_count": 49,
     "metadata": {},
     "output_type": "execute_result"
    },
    {
     "data": {
      "text/plain": [
       "<matplotlib.collections.QuadMesh at 0x7f1f1c35c5c0>"
      ]
     },
     "execution_count": 49,
     "metadata": {},
     "output_type": "execute_result"
    },
    {
     "data": {
      "text/plain": [
       "Text(0.5,1,'NonUniformImage: interpolated')"
      ]
     },
     "execution_count": 49,
     "metadata": {},
     "output_type": "execute_result"
    },
    {
     "data": {
      "text/plain": [
       "(0, 330)"
      ]
     },
     "execution_count": 49,
     "metadata": {},
     "output_type": "execute_result"
    },
    {
     "data": {
      "text/plain": [
       "(50.0, 90.0)"
      ]
     },
     "execution_count": 49,
     "metadata": {},
     "output_type": "execute_result"
    }
   ],
   "source": [
    "fig2Pre = plt.figure(num=7,figsize=(20, 8))\n",
    "ax = fig2Pre.add_subplot(131)\n",
    "ax.set_title('imshow: equidistant')\n",
    "im = plt.imshow(histDivJePre.T, interpolation='nearest', origin='low',\n",
    "                extent=[xEdgePre[0], xEdgePre[-1], yEdgePre[0], yEdgePre[-1]])\n",
    "ax2 = fig2Pre.add_subplot(132)\n",
    "ax2.set_title('pcolormesh: exact bin edges')\n",
    "X, Y = np.meshgrid(xEdgePre, yEdgePre)\n",
    "ax2.pcolormesh(X, Y, histDivJePre.T)\n",
    "ax2.set_aspect('auto')\n",
    "# plt.show()\n",
    "ax3 = fig2Pre.add_subplot(133)\n",
    "ax3.set_title('NonUniformImage: interpolated')\n",
    "im3 = mpl.image.NonUniformImage(ax3, interpolation='bilinear',\n",
    "                                extent=[xEdgePre[0], xEdgePre[-1], yEdgePre[0], yEdgePre[-1]])\n",
    "xcenters = xEdgePre[:-1] + 0.5 * (xEdgePre[1:] - xEdgePre[:-1])\n",
    "ycenters = yEdgePre[:-1] + 0.5 * (yEdgePre[1:] - yEdgePre[:-1])\n",
    "im3.set_data(xcenters, ycenters, histDivJePre.T)\n",
    "ax3.images.append(im3)\n",
    "ax3.set_xlim(xEdgePre[0], xEdgePre[-1])\n",
    "ax3.set_ylim(yEdgePre[0], yEdgePre[-1])\n",
    "ax3.set_aspect('auto')\n",
    "# fig2Pre.colorbar(im3, ax=ax3)\n",
    "plt.show()"
   ]
  },
  {
   "cell_type": "code",
   "execution_count": 56,
   "metadata": {
    "autoscroll": false,
    "collapsed": false,
    "ein.hycell": false,
    "ein.tags": "worksheet-0",
    "slideshow": {
     "slide_type": "-"
    }
   },
   "outputs": [
    {
     "data": {
      "text/plain": [
       "Text(0.5,0.98,'21-24 MLT')"
      ]
     },
     "execution_count": 56,
     "metadata": {},
     "output_type": "execute_result"
    },
    {
     "data": {
      "text/plain": [
       "Text(0.5,1,'imshow: equidistant')"
      ]
     },
     "execution_count": 56,
     "metadata": {},
     "output_type": "execute_result"
    },
    {
     "data": {
      "text/plain": [
       "Text(0.5,1,'pcolormesh: exact bin edges')"
      ]
     },
     "execution_count": 56,
     "metadata": {},
     "output_type": "execute_result"
    },
    {
     "data": {
      "text/plain": [
       "<matplotlib.collections.QuadMesh at 0x7f1f1be5a9b0>"
      ]
     },
     "execution_count": 56,
     "metadata": {},
     "output_type": "execute_result"
    },
    {
     "data": {
      "text/plain": [
       "Text(0.5,1,'NonUniformImage: interpolated')"
      ]
     },
     "execution_count": 56,
     "metadata": {},
     "output_type": "execute_result"
    },
    {
     "data": {
      "text/plain": [
       "(0, 330)"
      ]
     },
     "execution_count": 56,
     "metadata": {},
     "output_type": "execute_result"
    },
    {
     "data": {
      "text/plain": [
       "(-90.0, -50.0)"
      ]
     },
     "execution_count": 56,
     "metadata": {},
     "output_type": "execute_result"
    }
   ],
   "source": [
    "figSHPre = plt.figure(num=8,figsize=(20, 8))\n",
    "figSHPre.suptitle(\"21-24 MLT\")\n",
    "axSHPre = figSHPre.add_subplot(131)\n",
    "axSHPre.set_title('imshow: equidistant')\n",
    "im = plt.imshow(histDivJeSHPre.T, interpolation='nearest', origin='low',\n",
    "                extent=[xEdgeSHPre[0], xEdgeSHPre[-1], yEdgeSHPre[0], yEdgeSHPre[-1]])\n",
    "\n",
    "axSHPre2 = figSHPre.add_subplot(132)\n",
    "axSHPre2.set_title('pcolormesh: exact bin edges')\n",
    "X, Y = np.meshgrid(xEdgeSHPre, yEdgeSHPre)\n",
    "axSHPre2.pcolormesh(X, Y, histDivJeSHPre.T)\n",
    "axSHPre2.set_aspect('auto')\n",
    "# plt.show()\n",
    "axSHPre3 = figSHPre.add_subplot(133)\n",
    "axSHPre3.set_title('NonUniformImage: interpolated')\n",
    "im3 = mpl.image.NonUniformImage(axSHPre3, interpolation='bilinear',\n",
    "                                extent=[xEdgeSHPre[0], xEdgeSHPre[-1], yEdgeSHPre[0], yEdgeSHPre[-1]])\n",
    "xcenters = xEdgeSHPre[:-1] + 0.5 * (xEdgeSHPre[1:] - xEdgeSHPre[:-1])\n",
    "ycenters = yEdgeSHPre[:-1] + 0.5 * (yEdgeSHPre[1:] - yEdgeSHPre[:-1])\n",
    "im3.set_data(xcenters, ycenters, histDivJeSHPre.T)\n",
    "axSHPre3.images.append(im3)\n",
    "axSHPre3.set_xlim(xEdgeSHPre[0], xEdgeSHPre[-1])\n",
    "axSHPre3.set_ylim(yEdgeSHPre[0], yEdgeSHPre[-1])\n",
    "axSHPre3.set_aspect('auto')\n",
    "plt.show()"
   ]
  },
  {
   "cell_type": "code",
   "execution_count": 57,
   "metadata": {
    "autoscroll": false,
    "collapsed": false,
    "ein.hycell": false,
    "ein.tags": "worksheet-0",
    "slideshow": {
     "slide_type": "-"
    }
   },
   "outputs": [
    {
     "data": {
      "text/plain": [
       "Text(0.5,0.98,'21-24 MLT')"
      ]
     },
     "execution_count": 57,
     "metadata": {},
     "output_type": "execute_result"
    },
    {
     "data": {
      "text/plain": [
       "Text(0.5,1,'pcolormesh: exact bin edges')"
      ]
     },
     "execution_count": 57,
     "metadata": {},
     "output_type": "execute_result"
    },
    {
     "data": {
      "text/plain": [
       "<matplotlib.collections.QuadMesh at 0x7f1f1bd88cc0>"
      ]
     },
     "execution_count": 57,
     "metadata": {},
     "output_type": "execute_result"
    },
    {
     "data": {
      "text/plain": [
       "Text(0.5,1,'NonUniformImage: interpolated')"
      ]
     },
     "execution_count": 57,
     "metadata": {},
     "output_type": "execute_result"
    },
    {
     "data": {
      "text/plain": [
       "(0, 330)"
      ]
     },
     "execution_count": 57,
     "metadata": {},
     "output_type": "execute_result"
    },
    {
     "data": {
      "text/plain": [
       "(-90.0, 90.0)"
      ]
     },
     "execution_count": 57,
     "metadata": {},
     "output_type": "execute_result"
    },
    {
     "data": {
      "text/plain": [
       "<matplotlib.colorbar.Colorbar at 0x7f1f1bd75f98>"
      ]
     },
     "execution_count": 57,
     "metadata": {},
     "output_type": "execute_result"
    }
   ],
   "source": [
    "figAllPre = plt.figure(num=9,figsize=(16, 8))\n",
    "figAllPre.suptitle(\"21-24 MLT\")\n",
    "# axAllPre = figAllPre.add_subplot(131)\n",
    "# axAllPre.set_title('imshow: equidistant')\n",
    "# im = plt.imshow(histDivJeAllPre.T, interpolation='nearest', origin='low',\n",
    "#                 extent=[xEdgeAllPre[0], xEdgeAllPre[-1], yEdgeAllPre[0], yEdgeAllPre[-1]])\n",
    "\n",
    "axAllPre2 = figAllPre.add_subplot(121)\n",
    "axAllPre2.set_title('pcolormesh: exact bin edges')\n",
    "X, Y = np.meshgrid(xEdgeAllPre, yEdgeAllPre)\n",
    "axAllPre2.pcolormesh(X, Y, histDivJeAllPre.T)\n",
    "axAllPre2.set_aspect('auto')\n",
    "# plt.show()\n",
    "axAllPre3 = figAllPre.add_subplot(122)\n",
    "axAllPre3.set_title('NonUniformImage: interpolated')\n",
    "im3 = mpl.image.NonUniformImage(axAllPre3, interpolation='bilinear',\n",
    "                                extent=[xEdgeAllPre[0], xEdgeAllPre[-1], yEdgeAllPre[0], yEdgeAllPre[-1]])\n",
    "xcenters = xEdgeAllPre[:-1] + 0.5 * (xEdgeAllPre[1:] - xEdgeAllPre[:-1])\n",
    "ycenters = yEdgeAllPre[:-1] + 0.5 * (yEdgeAllPre[1:] - yEdgeAllPre[:-1])\n",
    "im3.set_data(xcenters, ycenters, histDivJeAllPre.T)\n",
    "axAllPre3.images.append(im3)\n",
    "axAllPre3.set_xlim(xEdgeAllPre[0], xEdgeAllPre[-1])\n",
    "axAllPre3.set_ylim(yEdgeAllPre[0], yEdgeAllPre[-1])\n",
    "axAllPre3.set_aspect('auto')\n",
    "figAllPre.colorbar(im3, ax=axAllPre3)\n",
    "plt.show()"
   ]
  },
  {
   "cell_type": "code",
   "execution_count": 86,
   "metadata": {
    "autoscroll": false,
    "collapsed": false,
    "ein.hycell": false,
    "ein.tags": "worksheet-0",
    "slideshow": {
     "slide_type": "-"
    }
   },
   "outputs": [
    {
     "data": {
      "text/plain": [
       "Text(0.5,0.98,'21-24 MLT')"
      ]
     },
     "execution_count": 86,
     "metadata": {},
     "output_type": "execute_result"
    },
    {
     "data": {
      "text/plain": [
       "Text(0.5,1,'pcolormesh: exact bin edges')"
      ]
     },
     "execution_count": 86,
     "metadata": {},
     "output_type": "execute_result"
    },
    {
     "data": {
      "text/plain": [
       "<matplotlib.collections.QuadMesh at 0x7f1f1af10f60>"
      ]
     },
     "execution_count": 86,
     "metadata": {},
     "output_type": "execute_result"
    },
    {
     "data": {
      "text/plain": [
       "Text(0.5,1,'NonUniformImage: interpolated')"
      ]
     },
     "execution_count": 86,
     "metadata": {},
     "output_type": "execute_result"
    },
    {
     "data": {
      "text/plain": [
       "(0, 330)"
      ]
     },
     "execution_count": 86,
     "metadata": {},
     "output_type": "execute_result"
    },
    {
     "data": {
      "text/plain": [
       "(-90.0, 90.0)"
      ]
     },
     "execution_count": 86,
     "metadata": {},
     "output_type": "execute_result"
    }
   ],
   "source": [
    "figAllPre = plt.figure(num=10,figsize=(16, 8))\n",
    "figAllPre.suptitle(\"21-24 MLT\")\n",
    "# axAllPre = figAllPre.add_subplot(131)\n",
    "# axAllPre.set_title('imshow: equidistant')\n",
    "# im = plt.imshow(histDivJeAllPre.T, interpolation='nearest', origin='low',\n",
    "#                 extent=[xEdgeAllPre[0], xEdgeAllPre[-1], yEdgeAllPre[0], yEdgeAllPre[-1]])\n",
    "\n",
    "axAllPre2 = figAllPre.add_subplot(121)\n",
    "axAllPre2.set_title('pcolormesh: exact bin edges')\n",
    "X, Y = np.meshgrid(xEdgeAllPre, yEdgeAllPre)\n",
    "axAllPre2.pcolormesh(X, Y, histDivJeAllPre.T)\n",
    "axAllPre2.set_aspect('auto')\n",
    "# plt.show()\n",
    "axAllPre3 = figAllPre.add_subplot(122)\n",
    "axAllPre3.set_title('NonUniformImage: interpolated')\n",
    "im3 = mpl.image.NonUniformImage(axAllPre3, interpolation='bilinear',\n",
    "                                extent=[xEdgeAllPre[0], xEdgeAllPre[-1], yEdgeAllPre[0], yEdgeAllPre[-1]])\n",
    "xcenters = xEdgeAllPre[:-1] + 0.5 * (xEdgeAllPre[1:] - xEdgeAllPre[:-1])\n",
    "ycenters = yEdgeAllPre[:-1] + 0.5 * (yEdgeAllPre[1:] - yEdgeAllPre[:-1])\n",
    "im3.set_data(xcenters, ycenters, histDivJeAllPre.T)\n",
    "axAllPre3.images.append(im3)\n",
    "axAllPre3.set_xlim(xEdgeAllPre[0], xEdgeAllPre[-1])\n",
    "axAllPre3.set_ylim(yEdgeAllPre[0], yEdgeAllPre[-1])\n",
    "axAllPre3.set_aspect('auto')\n",
    "cbAllPre=figAllPre.colorbar(im3, ax=axAllPre3)\n",
    "cbAllPre.set_label(\"# cm^-2 s^-1\")\n",
    "plt.show()"
   ]
  },
  {
   "cell_type": "code",
   "execution_count": 87,
   "metadata": {
    "autoscroll": false,
    "collapsed": false,
    "ein.hycell": false,
    "ein.tags": "worksheet-0",
    "slideshow": {
     "slide_type": "-"
    }
   },
   "outputs": [
    {
     "data": {
      "text/plain": [
       "Text(0.5,0.98,'21-24 MLT')"
      ]
     },
     "execution_count": 87,
     "metadata": {},
     "output_type": "execute_result"
    },
    {
     "data": {
      "text/plain": [
       "Text(0.5,1,'pcolormesh: exact bin edges')"
      ]
     },
     "execution_count": 87,
     "metadata": {},
     "output_type": "execute_result"
    },
    {
     "data": {
      "text/plain": [
       "<matplotlib.collections.QuadMesh at 0x7f1f1b67f3c8>"
      ]
     },
     "execution_count": 87,
     "metadata": {},
     "output_type": "execute_result"
    },
    {
     "data": {
      "text/plain": [
       "Text(0.5,1,'NonUniformImage: interpolated')"
      ]
     },
     "execution_count": 87,
     "metadata": {},
     "output_type": "execute_result"
    },
    {
     "data": {
      "text/plain": [
       "(0, 330)"
      ]
     },
     "execution_count": 87,
     "metadata": {},
     "output_type": "execute_result"
    },
    {
     "data": {
      "text/plain": [
       "(-90.0, 90.0)"
      ]
     },
     "execution_count": 87,
     "metadata": {},
     "output_type": "execute_result"
    }
   ],
   "source": [
    "figAllPre2 = plt.figure(num=11,figsize=(16, 8))\n",
    "figAllPre2.suptitle(\"21-24 MLT\")\n",
    "# axAllPre = figAllPre.add_subplot(131)\n",
    "# axAllPre.set_title('imshow: equidistant')\n",
    "# im = plt.imshow(hist2DNAllPre.T, interpolation='nearest', origin='low',\n",
    "#                 extent=[xEdgeAllPre[0], xEdgeAllPre[-1], yEdgeAllPre[0], yEdgeAllPre[-1]])\n",
    "\n",
    "axAllPre2 = figAllPre2.add_subplot(121)\n",
    "axAllPre2.set_title('pcolormesh: exact bin edges')\n",
    "X, Y = np.meshgrid(xEdgeAllPre, yEdgeAllPre)\n",
    "axAllPre2.pcolormesh(X, Y, hist2DNAllPre.T)\n",
    "axAllPre2.set_aspect('auto')\n",
    "# plt.show()\n",
    "axAllPre3 = figAllPre2.add_subplot(122)\n",
    "axAllPre3.set_title('NonUniformImage: interpolated')\n",
    "im3 = mpl.image.NonUniformImage(axAllPre3, interpolation='bilinear',\n",
    "                                extent=[xEdgeAllPre[0], xEdgeAllPre[-1], yEdgeAllPre[0], yEdgeAllPre[-1]])\n",
    "xcenters = xEdgeAllPre[:-1] + 0.5 * (xEdgeAllPre[1:] - xEdgeAllPre[:-1])\n",
    "ycenters = yEdgeAllPre[:-1] + 0.5 * (yEdgeAllPre[1:] - yEdgeAllPre[:-1])\n",
    "im3.set_data(xcenters, ycenters, hist2DNAllPre.T)\n",
    "axAllPre3.images.append(im3)\n",
    "axAllPre3.set_xlim(xEdgeAllPre[0], xEdgeAllPre[-1])\n",
    "axAllPre3.set_ylim(yEdgeAllPre[0], yEdgeAllPre[-1])\n",
    "axAllPre3.set_aspect('auto')\n",
    "cbAllPre2=figAllPre2.colorbar(im3, ax=axAllPre3)\n",
    "cbAllPre2.set_label(\"N\")\n",
    "plt.show()"
   ]
  },
  {
   "cell_type": "code",
   "execution_count": 88,
   "metadata": {
    "autoscroll": false,
    "collapsed": false,
    "ein.hycell": false,
    "ein.tags": "worksheet-0",
    "slideshow": {
     "slide_type": "-"
    }
   },
   "outputs": [
    {
     "data": {
      "text/plain": [
       "Text(0.5,0.98,'21-24 MLT')"
      ]
     },
     "execution_count": 88,
     "metadata": {},
     "output_type": "execute_result"
    },
    {
     "data": {
      "text/plain": [
       "Text(0.5,1,'pcolormesh: exact bin edges')"
      ]
     },
     "execution_count": 88,
     "metadata": {},
     "output_type": "execute_result"
    },
    {
     "data": {
      "text/plain": [
       "<matplotlib.collections.QuadMesh at 0x7f1f1aa82fd0>"
      ]
     },
     "execution_count": 88,
     "metadata": {},
     "output_type": "execute_result"
    },
    {
     "data": {
      "text/plain": [
       "Text(0.5,1,'NonUniformImage: interpolated')"
      ]
     },
     "execution_count": 88,
     "metadata": {},
     "output_type": "execute_result"
    },
    {
     "data": {
      "text/plain": [
       "(0, 330)"
      ]
     },
     "execution_count": 88,
     "metadata": {},
     "output_type": "execute_result"
    },
    {
     "data": {
      "text/plain": [
       "(-90.0, 90.0)"
      ]
     },
     "execution_count": 88,
     "metadata": {},
     "output_type": "execute_result"
    }
   ],
   "source": [
    "figAllPre3 = plt.figure(num=12,figsize=(16, 8))\n",
    "figAllPre3.suptitle(\"21-24 MLT\")\n",
    "# axAllPre = figAllPre3.add_subplot(131)\n",
    "# axAllPre.set_title('imshow: equidistant')\n",
    "# im = plt.imshow(histDivJeAllPre.T, interpolation='nearest', origin='low',\n",
    "#                 extent=[xEdgeAllPre[0], xEdgeAllPre[-1], yEdgeAllPre[0], yEdgeAllPre[-1]])\n",
    "\n",
    "axAllPre2 = figAllPre3.add_subplot(121)\n",
    "axAllPre2.set_title('pcolormesh: exact bin edges')\n",
    "X, Y = np.meshgrid(xEdgeAllPre, yEdgeAllPre)\n",
    "axAllPre2.pcolormesh(X, Y, histDivJeeAllPre.T)\n",
    "axAllPre2.set_aspect('auto')\n",
    "# plt.show()\n",
    "axAllPre3 = figAllPre3.add_subplot(122)\n",
    "axAllPre3.set_title('NonUniformImage: interpolated')\n",
    "im3 = mpl.image.NonUniformImage(axAllPre3, interpolation='bilinear',\n",
    "                                extent=[xEdgeAllPre[0], xEdgeAllPre[-1], yEdgeAllPre[0], yEdgeAllPre[-1]])\n",
    "xcenters = xEdgeAllPre[:-1] + 0.5 * (xEdgeAllPre[1:] - xEdgeAllPre[:-1])\n",
    "ycenters = yEdgeAllPre[:-1] + 0.5 * (yEdgeAllPre[1:] - yEdgeAllPre[:-1])\n",
    "im3.set_data(xcenters, ycenters, histDivJeeAllPre.T)\n",
    "axAllPre3.images.append(im3)\n",
    "axAllPre3.set_xlim(xEdgeAllPre[0], xEdgeAllPre[-1])\n",
    "axAllPre3.set_ylim(yEdgeAllPre[0], yEdgeAllPre[-1])\n",
    "axAllPre3.set_aspect('auto')\n",
    "cbAllPre=figAllPre3.colorbar(im3, ax=axAllPre3)\n",
    "cbAllPre.set_label(\"mW m^-2\")\n",
    "plt.show()"
   ]
  },
  {
   "cell_type": "code",
   "execution_count": null,
   "metadata": {
    "autoscroll": false,
    "collapsed": false,
    "ein.hycell": false,
    "ein.tags": "worksheet-0",
    "slideshow": {
     "slide_type": "-"
    }
   },
   "outputs": [],
   "source": []
  }
 ],
 "metadata": {
  "kernelspec": {
   "display_name": "Python 3",
   "name": "python3"
  },
  "name": "journal__20181009__kalle_plot_2.ipynb"
 },
 "nbformat": 4,
 "nbformat_minor": 2
}
