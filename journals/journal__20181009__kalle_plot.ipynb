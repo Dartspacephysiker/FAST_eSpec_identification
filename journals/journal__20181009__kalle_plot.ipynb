{
 "cells": [
  {
   "cell_type": "code",
   "execution_count": 1,
   "metadata": {
    "autoscroll": false,
    "collapsed": false,
    "ein.hycell": false,
    "ein.tags": "worksheet-0",
    "slideshow": {
     "slide_type": "-"
    }
   },
   "outputs": [
    {
     "name": "stdout",
     "output_type": "stream",
     "text": [
      "This unreleased version of SpacePy is not supported by the SpacePy team.\n"
     ]
    }
   ],
   "source": [
    "import scipy.io as sio\n",
    "import numpy as np\n",
    "import datetime\n",
    "import matplotlib as mpl\n",
    "import tkinter\n",
    "mpl.use('TkAgg')\n",
    "import matplotlib.pyplot as plt\n",
    "plt.ion()\n",
    "# If using tkinter ('TkAgg') then make font color black,\n",
    "mpl.rcParams.update({'text.color': 'k'})\n",
    "mpl.rcParams.update({'axes.labelcolor': 'k'})\n",
    "mpl.rcParams.update({'xtick.color': 'k'})\n",
    "mpl.rcParams.update({'ytick.color': 'k'})\n",
    "import numpy as np\n",
    "import pandas as pd\n",
    "#import sciencedates #same as igrf12fort\n",
    "import spacepy.time as spt\n",
    "#import xarray as xr #same as igrf12fort and sciencedates\n",
    "mpl.rcParams.update({'font.size': 15})\n",
    "mpl.rcParams.update({'figure.figsize' : [10.0, 8.0]})\n",
    "\n",
    "\n",
    "# file = '/SPENCEdata/Research/Satellites/FAST/espec_identification/20181009-Kalle_inds_21-24MLT__BOTH__gigante_DB.sav'\n",
    "\n",
    "# redMagFile = '/SPENCEdata/Research/Satellites/FAST/espec_identification/20181009-Kalle_inds_21-24MLT__BOTH__gigante_DB__MAG_coords.sav'\n",
    "\n",
    "allFile='/SPENCEdata/Research/Satellites/FAST/espec_identification/20181009-Kalle_inds_21-24MLT__BOTH__gigante_DB__delta_t_and_mag_coords.sav'\n",
    "\n",
    "# this = sio.readsav(file,python_dict=True)\n",
    "# thisMAG = sio.readsav(redMagFile,python_dict=True)\n",
    "all = sio.readsav(allFile,python_dict=True)"
   ]
  },
  {
   "cell_type": "code",
   "execution_count": 2,
   "metadata": {
    "autoscroll": false,
    "collapsed": false,
    "ein.hycell": false,
    "ein.tags": "worksheet-0",
    "slideshow": {
     "slide_type": "-"
    }
   },
   "outputs": [
    {
     "name": "stdout",
     "output_type": "stream",
     "text": [
      "dict_keys(['espec', 'good_i', 'espec_delta_t', 'mag'])\n"
     ]
    }
   ],
   "source": [
    "print(all.keys())\n",
    "# print(thisMAG.keys())\n",
    "espec = all['espec']\n",
    "mag = all['mag']\n",
    "dts = all['espec_delta_t']"
   ]
  },
  {
   "cell_type": "code",
   "execution_count": 3,
   "metadata": {
    "autoscroll": false,
    "collapsed": false,
    "ein.hycell": false,
    "ein.tags": "worksheet-0",
    "slideshow": {
     "slide_type": "-"
    }
   },
   "outputs": [
    {
     "name": "stdout",
     "output_type": "stream",
     "text": [
      "(numpy.record, [(('x', 'X'), 'O'), (('orbit', 'ORBIT'), 'O'), (('mlt', 'MLT'), 'O'), (('ilat', 'ILAT'), 'O'), (('alt', 'ALT'), 'O'), (('mono', 'MONO'), 'O'), (('broad', 'BROAD'), 'O'), (('diffuse', 'DIFFUSE'), 'O'), (('je', 'JE'), 'O'), (('jee', 'JEE'), 'O'), (('nbad_espec', 'NBAD_ESPEC'), 'O'), (('mapfactor', 'MAPFACTOR'), 'O'), (('chare', 'CHARE'), 'O'), (('info', 'INFO'), 'O')])\n",
      "(numpy.record, [(('alt', 'ALT'), 'O'), (('lon', 'LON'), 'O'), (('lat', 'LAT'), 'O')])\n",
      ">f4\n"
     ]
    },
    {
     "data": {
      "text/plain": [
       "(4813389,)"
      ]
     },
     "execution_count": 3,
     "metadata": {},
     "output_type": "execute_result"
    }
   ],
   "source": [
    "print(espec.dtype)\n",
    "print(mag.dtype)\n",
    "print(dts.dtype)\n",
    "espec.x[0].shape\n",
    "# espec.mono[0].shape\n",
    "# espec.broad[0].shape\n",
    "# print(dat.alt[0].shape)\n",
    "# print(dat.lon[0].shape)\n",
    "#print(dat.lat[0].shape)"
   ]
  },
  {
   "cell_type": "code",
   "execution_count": 33,
   "metadata": {
    "autoscroll": false,
    "collapsed": false,
    "ein.hycell": false,
    "ein.tags": "worksheet-0",
    "slideshow": {
     "slide_type": "-"
    }
   },
   "outputs": [
    {
     "data": {
      "text/plain": [
       "datetime.datetime(2002, 10, 24, 23, 52, 22, 272221)"
      ]
     },
     "execution_count": 33,
     "metadata": {},
     "output_type": "execute_result"
    }
   ],
   "source": [
    "# Get a datetime from our UTC doubles created by IDL\n",
    "datetime.datetime.utcfromtimestamp(espec.x[0][-1])\n"
   ]
  },
  {
   "cell_type": "code",
   "execution_count": 5,
   "metadata": {
    "autoscroll": false,
    "collapsed": false,
    "ein.hycell": false,
    "ein.tags": "worksheet-0",
    "slideshow": {
     "slide_type": "-"
    }
   },
   "outputs": [
    {
     "name": "stdout",
     "output_type": "stream",
     "text": [
      "(array([      0,       1,       2, ..., 4813386, 4813387, 4813388]),)\n"
     ]
    }
   ],
   "source": [
    "# Diffusers\n",
    "diff_i=np.where(espec.diffuse[0] == 1)\n",
    "print(diff_i)\n",
    "\n",
    "# Uvver fings\n",
    "# print(np.where((espec.mono[0] == 1) | (espec.mono[0] == 2))[0].shape)\n",
    "# print(np.where(espec.diffuse[0] == 1)[0].shape)"
   ]
  },
  {
   "cell_type": "code",
   "execution_count": 34,
   "metadata": {
    "autoscroll": false,
    "collapsed": false,
    "ein.hycell": false,
    "ein.tags": "worksheet-0",
    "slideshow": {
     "slide_type": "-"
    }
   },
   "outputs": [
    {
     "data": {
      "text/plain": [
       "(array([466869., 424997., 406490., 540650., 535440., 566529., 547119.,\n        453908., 436565., 434822.]),\n array([7.3907075e-05, 3.6000057e+01, 7.2000038e+01, 1.0800002e+02,\n        1.4400002e+02, 1.7999998e+02, 2.1599997e+02, 2.5199995e+02,\n        2.8799994e+02, 3.2399994e+02, 3.5999991e+02], dtype=float32),\n <a list of 10 Patch objects>)"
      ]
     },
     "execution_count": 34,
     "metadata": {},
     "output_type": "execute_result"
    }
   ],
   "source": [
    "fig1 = plt.figure(num=1,figsize=(20, 8))\n",
    "ax = fig1.add_subplot(111)\n",
    "plt.hist(mag.lon[0])\n",
    "plt.show()\n"
   ]
  },
  {
   "cell_type": "code",
   "execution_count": 35,
   "metadata": {
    "autoscroll": false,
    "collapsed": false,
    "ein.hycell": false,
    "ein.tags": "worksheet-0",
    "slideshow": {
     "slide_type": "-"
    }
   },
   "outputs": [
    {
     "name": "stdout",
     "output_type": "stream",
     "text": [
      "[  0  30  60  90 120 150 180 210 240 270 300 330]\n",
      "[50.  52.5 55.  57.5 60.  62.5 65.  67.5 70.  72.5 75.  77.5 80.  82.5\n",
      " 85.  87.5 90. ]\n",
      "[-90.  -87.5 -85.  -82.5 -80.  -77.5 -75.  -72.5 -70.  -67.5 -65.  -62.5\n",
      " -60.  -57.5 -55.  -52.5 -50. ]\n",
      "[-90.  -87.5 -85.  -82.5 -80.  -77.5 -75.  -72.5 -70.  -67.5 -65.  -62.5\n",
      " -60.  -57.5 -55.  -52.5 -50.  -47.5 -45.  -42.5 -40.  -37.5 -35.  -32.5\n",
      " -30.  -27.5 -25.  -22.5 -20.  -17.5 -15.  -12.5 -10.   -7.5  -5.   -2.5\n",
      "   0.    2.5   5.    7.5  10.   12.5  15.   17.5  20.   22.5  25.   27.5\n",
      "  30.   32.5  35.   37.5  40.   42.5  45.   47.5  50.   52.5  55.   57.5\n",
      "  60.   62.5  65.   67.5  70.   72.5  75.   77.5  80.   82.5  85.   87.5\n",
      "  90. ]\n"
     ]
    }
   ],
   "source": [
    "# Nå skaper vi vektene for den 2D matrise \n",
    "# Et histogram skal være det som gjelder bare tid\n",
    "# det andre skal være det vektete flukser\n",
    "#lonKanter=np.\n",
    "lonKanter=np.arange(0,360,30)\n",
    "latKanter=(np.arange(0,85,5)+100)/2.\n",
    "latKanterSH=(np.arange(-60,25,5)-120)/2.\n",
    "latKanterAll=(np.arange(-60,305,5)-120)/2.\n",
    "print(lonKanter)\n",
    "print(latKanter)\n",
    "print(latKanterSH)\n",
    "print(latKanterAll)"
   ]
  },
  {
   "cell_type": "code",
   "execution_count": 36,
   "metadata": {
    "autoscroll": false,
    "collapsed": false,
    "ein.hycell": false,
    "ein.tags": "worksheet-0",
    "slideshow": {
     "slide_type": "-"
    }
   },
   "outputs": [],
   "source": [
    "hist2DTid,xEdge,yEdge=np.histogram2d(mag.lon[0],mag.lat[0],bins=(lonKanter,latKanter),weights=dts)\n",
    "hist2DJe,xEdge,yEdge=np.histogram2d(mag.lon[0],mag.lat[0],bins=(lonKanter,latKanter),weights=dts*espec.je[0])\n",
    "\n",
    "hist2DTidSH,xEdgeSH,yEdgeSH=np.histogram2d(mag.lon[0],mag.lat[0],bins=(lonKanter,latKanterSH),weights=dts)\n",
    "hist2DJeSH,xEdgeSH,yEdgeSH=np.histogram2d(mag.lon[0],mag.lat[0],bins=(lonKanter,latKanterSH),weights=dts*espec.je[0])\n",
    "\n",
    "hist2DTidAll,xEdgeAll,yEdgeAll=np.histogram2d(mag.lon[0],mag.lat[0],bins=(lonKanter,latKanterAll),weights=dts)\n",
    "hist2DJeAll,xEdgeAll,yEdgeAll=np.histogram2d(mag.lon[0],mag.lat[0],bins=(lonKanter,latKanterAll),weights=dts*espec.je[0])\n",
    "hist2DNAll,xEdgeAll,yEdgeAll=np.histogram2d(mag.lon[0],mag.lat[0],bins=(lonKanter,latKanterAll))"
   ]
  },
  {
   "cell_type": "code",
   "execution_count": 37,
   "metadata": {
    "autoscroll": false,
    "collapsed": false,
    "ein.hycell": false,
    "ein.tags": "worksheet-0",
    "slideshow": {
     "slide_type": "-"
    }
   },
   "outputs": [],
   "source": [
    "histDiv = hist2DJe*0.\n",
    "nzInds = np.where(hist2DTid > 0)\n",
    "histDiv[nzInds] = hist2DJe[nzInds]/hist2DTid[nzInds]\n",
    "\n",
    "histDivSH = hist2DJeSH*0.\n",
    "nzIndsSH = np.where(hist2DTidSH > 0)\n",
    "histDivSH[nzIndsSH] = hist2DJeSH[nzIndsSH]/hist2DTidSH[nzIndsSH]\n",
    "\n",
    "histDivAll = hist2DJeAll*0.\n",
    "nzIndsAll = np.where(hist2DTidAll > 0)\n",
    "histDivAll[nzIndsAll] = hist2DJeAll[nzIndsAll]/hist2DTidAll[nzIndsAll]"
   ]
  },
  {
   "cell_type": "code",
   "execution_count": 40,
   "metadata": {
    "autoscroll": false,
    "collapsed": false,
    "ein.hycell": false,
    "ein.tags": "worksheet-0",
    "slideshow": {
     "slide_type": "-"
    }
   },
   "outputs": [
    {
     "data": {
      "text/plain": [
       "Text(0.5,1,'imshow: equidistant')"
      ]
     },
     "execution_count": 40,
     "metadata": {},
     "output_type": "execute_result"
    },
    {
     "data": {
      "text/plain": [
       "Text(0.5,1,'pcolormesh: exact bin edges')"
      ]
     },
     "execution_count": 40,
     "metadata": {},
     "output_type": "execute_result"
    },
    {
     "data": {
      "text/plain": [
       "<matplotlib.collections.QuadMesh at 0x7f7f6406d320>"
      ]
     },
     "execution_count": 40,
     "metadata": {},
     "output_type": "execute_result"
    },
    {
     "data": {
      "text/plain": [
       "Text(0.5,1,'NonUniformImage: interpolated')"
      ]
     },
     "execution_count": 40,
     "metadata": {},
     "output_type": "execute_result"
    },
    {
     "data": {
      "text/plain": [
       "(0, 330)"
      ]
     },
     "execution_count": 40,
     "metadata": {},
     "output_type": "execute_result"
    },
    {
     "data": {
      "text/plain": [
       "(50.0, 90.0)"
      ]
     },
     "execution_count": 40,
     "metadata": {},
     "output_type": "execute_result"
    },
    {
     "data": {
      "text/plain": [
       "<matplotlib.colorbar.Colorbar at 0x7f7f642b26d8>"
      ]
     },
     "execution_count": 40,
     "metadata": {},
     "output_type": "execute_result"
    }
   ],
   "source": [
    "fig2 = plt.figure(num=2,figsize=(20, 8))\n",
    "ax = fig2.add_subplot(131)\n",
    "ax.set_title('imshow: equidistant')\n",
    "im = plt.imshow(histDiv.T, interpolation='nearest', origin='low',\n",
    "                extent=[xEdge[0], xEdge[-1], yEdge[0], yEdge[-1]])\n",
    "ax2 = fig2.add_subplot(132)\n",
    "ax2.set_title('pcolormesh: exact bin edges')\n",
    "X, Y = np.meshgrid(xEdge, yEdge)\n",
    "ax2.pcolormesh(X, Y, histDiv.T)\n",
    "ax2.set_aspect('auto')\n",
    "# plt.show()\n",
    "ax3 = fig2.add_subplot(133)\n",
    "ax3.set_title('NonUniformImage: interpolated')\n",
    "im3 = mpl.image.NonUniformImage(ax3, interpolation='bilinear',\n",
    "                                extent=[xEdge[0], xEdge[-1], yEdge[0], yEdge[-1]])\n",
    "xcenters = xEdge[:-1] + 0.5 * (xEdge[1:] - xEdge[:-1])\n",
    "ycenters = yEdge[:-1] + 0.5 * (yEdge[1:] - yEdge[:-1])\n",
    "im3.set_data(xcenters, ycenters, histDiv.T)\n",
    "ax3.images.append(im3)\n",
    "ax3.set_xlim(xEdge[0], xEdge[-1])\n",
    "ax3.set_ylim(yEdge[0], yEdge[-1])\n",
    "ax3.set_aspect('auto')\n",
    "# fig2.colorbar(im3, ax=ax3)\n",
    "plt.show()"
   ]
  },
  {
   "cell_type": "code",
   "execution_count": 17,
   "metadata": {
    "autoscroll": false,
    "collapsed": false,
    "ein.hycell": false,
    "ein.tags": "worksheet-0",
    "slideshow": {
     "slide_type": "-"
    }
   },
   "outputs": [
    {
     "data": {
      "text/plain": [
       "Text(0.5,1,'imshow: equidistant')"
      ]
     },
     "execution_count": 17,
     "metadata": {},
     "output_type": "execute_result"
    },
    {
     "data": {
      "text/plain": [
       "Text(0.5,1,'pcolormesh: exact bin edges')"
      ]
     },
     "execution_count": 17,
     "metadata": {},
     "output_type": "execute_result"
    },
    {
     "data": {
      "text/plain": [
       "<matplotlib.collections.QuadMesh at 0x7f7f647b9160>"
      ]
     },
     "execution_count": 17,
     "metadata": {},
     "output_type": "execute_result"
    },
    {
     "data": {
      "text/plain": [
       "Text(0.5,1,'NonUniformImage: interpolated')"
      ]
     },
     "execution_count": 17,
     "metadata": {},
     "output_type": "execute_result"
    },
    {
     "data": {
      "text/plain": [
       "(0, 330)"
      ]
     },
     "execution_count": 17,
     "metadata": {},
     "output_type": "execute_result"
    },
    {
     "data": {
      "text/plain": [
       "(-90.0, -50.0)"
      ]
     },
     "execution_count": 17,
     "metadata": {},
     "output_type": "execute_result"
    }
   ],
   "source": [
    "figSH = plt.figure(num=3,figsize=(20, 8))\n",
    "axSH = figSH.add_subplot(131)\n",
    "axSH.set_title('imshow: equidistant')\n",
    "im = plt.imshow(histDivSH.T, interpolation='nearest', origin='low',\n",
    "                extent=[xEdgeSH[0], xEdgeSH[-1], yEdgeSH[0], yEdgeSH[-1]])\n",
    "\n",
    "axSH2 = figSH.add_subplot(132)\n",
    "axSH2.set_title('pcolormesh: exact bin edges')\n",
    "X, Y = np.meshgrid(xEdgeSH, yEdgeSH)\n",
    "axSH2.pcolormesh(X, Y, histDivSH.T)\n",
    "axSH2.set_aspect('auto')\n",
    "# plt.show()\n",
    "axSH3 = figSH.add_subplot(133)\n",
    "axSH3.set_title('NonUniformImage: interpolated')\n",
    "im3 = mpl.image.NonUniformImage(axSH3, interpolation='bilinear',\n",
    "                                extent=[xEdgeSH[0], xEdgeSH[-1], yEdgeSH[0], yEdgeSH[-1]])\n",
    "xcenters = xEdgeSH[:-1] + 0.5 * (xEdgeSH[1:] - xEdgeSH[:-1])\n",
    "ycenters = yEdgeSH[:-1] + 0.5 * (yEdgeSH[1:] - yEdgeSH[:-1])\n",
    "im3.set_data(xcenters, ycenters, histDivSH.T)\n",
    "axSH3.images.append(im3)\n",
    "axSH3.set_xlim(xEdgeSH[0], xEdgeSH[-1])\n",
    "axSH3.set_ylim(yEdgeSH[0], yEdgeSH[-1])\n",
    "axSH3.set_aspect('auto')\n",
    "plt.show()"
   ]
  },
  {
   "cell_type": "code",
   "execution_count": 42,
   "metadata": {
    "autoscroll": false,
    "collapsed": false,
    "ein.hycell": false,
    "ein.tags": "worksheet-0",
    "slideshow": {
     "slide_type": "-"
    }
   },
   "outputs": [
    {
     "data": {
      "text/plain": [
       "Text(0.5,1,'pcolormesh: exact bin edges')"
      ]
     },
     "execution_count": 42,
     "metadata": {},
     "output_type": "execute_result"
    },
    {
     "data": {
      "text/plain": [
       "<matplotlib.collections.QuadMesh at 0x7f7f64b3b6d8>"
      ]
     },
     "execution_count": 42,
     "metadata": {},
     "output_type": "execute_result"
    },
    {
     "data": {
      "text/plain": [
       "Text(0.5,1,'NonUniformImage: interpolated')"
      ]
     },
     "execution_count": 42,
     "metadata": {},
     "output_type": "execute_result"
    },
    {
     "data": {
      "text/plain": [
       "(0, 330)"
      ]
     },
     "execution_count": 42,
     "metadata": {},
     "output_type": "execute_result"
    },
    {
     "data": {
      "text/plain": [
       "(-90.0, 90.0)"
      ]
     },
     "execution_count": 42,
     "metadata": {},
     "output_type": "execute_result"
    },
    {
     "data": {
      "text/plain": [
       "<matplotlib.colorbar.Colorbar at 0x7f7f642ad128>"
      ]
     },
     "execution_count": 42,
     "metadata": {},
     "output_type": "execute_result"
    }
   ],
   "source": [
    "figAll = plt.figure(num=4,figsize=(16, 8))\n",
    "# axAll = figAll.add_subplot(131)\n",
    "# axAll.set_title('imshow: equidistant')\n",
    "# im = plt.imshow(histDivAll.T, interpolation='nearest', origin='low',\n",
    "#                 extent=[xEdgeAll[0], xEdgeAll[-1], yEdgeAll[0], yEdgeAll[-1]])\n",
    "\n",
    "axAll2 = figAll.add_subplot(121)\n",
    "axAll2.set_title('pcolormesh: exact bin edges')\n",
    "X, Y = np.meshgrid(xEdgeAll, yEdgeAll)\n",
    "axAll2.pcolormesh(X, Y, histDivAll.T)\n",
    "axAll2.set_aspect('auto')\n",
    "# plt.show()\n",
    "axAll3 = figAll.add_subplot(122)\n",
    "axAll3.set_title('NonUniformImage: interpolated')\n",
    "im3 = mpl.image.NonUniformImage(axAll3, interpolation='bilinear',\n",
    "                                extent=[xEdgeAll[0], xEdgeAll[-1], yEdgeAll[0], yEdgeAll[-1]])\n",
    "xcenters = xEdgeAll[:-1] + 0.5 * (xEdgeAll[1:] - xEdgeAll[:-1])\n",
    "ycenters = yEdgeAll[:-1] + 0.5 * (yEdgeAll[1:] - yEdgeAll[:-1])\n",
    "im3.set_data(xcenters, ycenters, histDivAll.T)\n",
    "axAll3.images.append(im3)\n",
    "axAll3.set_xlim(xEdgeAll[0], xEdgeAll[-1])\n",
    "axAll3.set_ylim(yEdgeAll[0], yEdgeAll[-1])\n",
    "axAll3.set_aspect('auto')\n",
    "figAll.colorbar(im3, ax=axAll3)\n",
    "plt.show()"
   ]
  },
  {
   "cell_type": "code",
   "execution_count": 43,
   "metadata": {
    "autoscroll": false,
    "collapsed": false,
    "ein.hycell": false,
    "ein.tags": "worksheet-0",
    "slideshow": {
     "slide_type": "-"
    }
   },
   "outputs": [
    {
     "data": {
      "text/plain": [
       "Text(0.5,1,'pcolormesh: exact bin edges')"
      ]
     },
     "execution_count": 43,
     "metadata": {},
     "output_type": "execute_result"
    },
    {
     "data": {
      "text/plain": [
       "<matplotlib.collections.QuadMesh at 0x7f7f640ac470>"
      ]
     },
     "execution_count": 43,
     "metadata": {},
     "output_type": "execute_result"
    },
    {
     "data": {
      "text/plain": [
       "Text(0.5,1,'NonUniformImage: interpolated')"
      ]
     },
     "execution_count": 43,
     "metadata": {},
     "output_type": "execute_result"
    },
    {
     "data": {
      "text/plain": [
       "(0, 330)"
      ]
     },
     "execution_count": 43,
     "metadata": {},
     "output_type": "execute_result"
    },
    {
     "data": {
      "text/plain": [
       "(-90.0, 90.0)"
      ]
     },
     "execution_count": 43,
     "metadata": {},
     "output_type": "execute_result"
    },
    {
     "data": {
      "text/plain": [
       "<matplotlib.colorbar.Colorbar at 0x7f7f64b51278>"
      ]
     },
     "execution_count": 43,
     "metadata": {},
     "output_type": "execute_result"
    }
   ],
   "source": [
    "figAll2 = plt.figure(num=5,figsize=(16, 8))\n",
    "# axAll = figAll.add_subplot(131)\n",
    "# axAll.set_title('imshow: equidistant')\n",
    "# im = plt.imshow(hist2DNAll.T, interpolation='nearest', origin='low',\n",
    "#                 extent=[xEdgeAll[0], xEdgeAll[-1], yEdgeAll[0], yEdgeAll[-1]])\n",
    "\n",
    "axAll2 = figAll2.add_subplot(121)\n",
    "axAll2.set_title('pcolormesh: exact bin edges')\n",
    "X, Y = np.meshgrid(xEdgeAll, yEdgeAll)\n",
    "axAll2.pcolormesh(X, Y, hist2DNAll.T)\n",
    "axAll2.set_aspect('auto')\n",
    "# plt.show()\n",
    "axAll3 = figAll2.add_subplot(122)\n",
    "axAll3.set_title('NonUniformImage: interpolated')\n",
    "im3 = mpl.image.NonUniformImage(axAll3, interpolation='bilinear',\n",
    "                                extent=[xEdgeAll[0], xEdgeAll[-1], yEdgeAll[0], yEdgeAll[-1]])\n",
    "xcenters = xEdgeAll[:-1] + 0.5 * (xEdgeAll[1:] - xEdgeAll[:-1])\n",
    "ycenters = yEdgeAll[:-1] + 0.5 * (yEdgeAll[1:] - yEdgeAll[:-1])\n",
    "im3.set_data(xcenters, ycenters, hist2DNAll.T)\n",
    "axAll3.images.append(im3)\n",
    "axAll3.set_xlim(xEdgeAll[0], xEdgeAll[-1])\n",
    "axAll3.set_ylim(yEdgeAll[0], yEdgeAll[-1])\n",
    "axAll3.set_aspect('auto')\n",
    "figAll2.colorbar(im3, ax=axAll3)\n",
    "plt.show()"
   ]
  },
  {
   "cell_type": "code",
   "execution_count": 44,
   "metadata": {
    "autoscroll": false,
    "collapsed": false,
    "ein.hycell": false,
    "ein.tags": "worksheet-0",
    "slideshow": {
     "slide_type": "-"
    }
   },
   "outputs": [
    {
     "data": {
      "text/plain": [
       "(array([504317., 486026., 483696., 491395., 487107., 479131., 475700.,\n        485037., 452047., 468933.]),\n array([21. , 21.3, 21.6, 21.9, 22.2, 22.5, 22.8, 23.1, 23.4, 23.7, 24. ],\n       dtype=float32),\n <a list of 10 Patch objects>)"
      ]
     },
     "execution_count": 44,
     "metadata": {},
     "output_type": "execute_result"
    }
   ],
   "source": [
    "fig1 = plt.figure(num=1,figsize=(20, 8))\n",
    "ax = fig1.add_subplot(111)\n",
    "plt.hist(espec.mlt[0])\n",
    "plt.show()\n"
   ]
  },
  {
   "cell_type": "code",
   "execution_count": null,
   "metadata": {
    "autoscroll": false,
    "collapsed": false,
    "ein.hycell": false,
    "ein.tags": "worksheet-0",
    "slideshow": {
     "slide_type": "-"
    }
   },
   "outputs": [],
   "source": []
  }
 ],
 "metadata": {
  "kernelspec": {
   "display_name": "Python 3",
   "name": "python3"
  },
  "name": "journal__20181009__kalle_plot.ipynb"
 },
 "nbformat": 4,
 "nbformat_minor": 2
}
